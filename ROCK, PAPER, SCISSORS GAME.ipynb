{
 "cells": [
  {
   "cell_type": "code",
   "execution_count": 1,
   "id": "d5e02d23",
   "metadata": {},
   "outputs": [],
   "source": [
    "import random"
   ]
  },
  {
   "cell_type": "code",
   "execution_count": 2,
   "id": "8188d8db",
   "metadata": {},
   "outputs": [
    {
     "name": "stdout",
     "output_type": "stream",
     "text": [
      "Write End to end the game\n",
      "Rock, Paper or  Scissors?Rock\n",
      "Tie!\n",
      "Rock, Paper or  Scissors?Paper\n",
      "You win!\n",
      "Rock, Paper or  Scissors?Scissors\n",
      "You lose!\n",
      "Rock, Paper or  Scissors?End\n",
      "Final Scores:\n",
      "CPU 1\n",
      "Your score 1\n"
     ]
    }
   ],
   "source": [
    "choice = [\"Rock\", \"Paper\", \"Scissors\"]                           \n",
    "print(\"Write End to end the game\")                               \n",
    "compchoice = random.choice(choice)                                 \n",
    "user = False                                                     \n",
    "comp = 0                                                         \n",
    "userscore = 0                                                    \n",
    "while True:                                                      \n",
    "    player = input(\"Rock, Paper or  Scissors?\").capitalize()     \n",
    "                        \n",
    "    if player == compchoice:                                       \n",
    "        print(\"Tie!\")                                        \n",
    "    elif player == \"Rock\":                                       \n",
    "        if compchoice == \"Paper\":                                  \n",
    "            print(\"You lose!\")       \n",
    "            comp+=1                                              \n",
    "        else:                                                    \n",
    "            print(\"You win!\")       \n",
    "            userscore+=1                                         \n",
    "    elif player == \"Paper\":                                      \n",
    "        if compchoice == \"Scissors\":                               \n",
    "            print(\"You lose!\")          \n",
    "            userscore+=1                                         \n",
    "        else:                                                    \n",
    "            print(\"You win!\")        \n",
    "            userscore+=1                                         \n",
    "    elif player == \"Scissors\":                                   \n",
    "        if compchoice == \"Rock\":                                   \n",
    "            print(\"You lose!\")    \n",
    "            comp+=1                                              \n",
    "        else:                                                    \n",
    "            print(\"You win!\")           \n",
    "            userscore+=1                                         \n",
    "    elif player=='End':                                          \n",
    "        print(\"Final Scores:\")                                   \n",
    "        print(\"CPU\",end=\" \")\n",
    "        print(comp)\n",
    "        print(\"Your score\", end=\" \")                                     \n",
    "        print(userscore)                                   \n",
    "        break                                                    "
   ]
  },
  {
   "cell_type": "code",
   "execution_count": null,
   "id": "1c7e6093",
   "metadata": {},
   "outputs": [],
   "source": []
  }
 ],
 "metadata": {
  "kernelspec": {
   "display_name": "Python 3",
   "language": "python",
   "name": "python3"
  },
  "language_info": {
   "codemirror_mode": {
    "name": "ipython",
    "version": 3
   },
   "file_extension": ".py",
   "mimetype": "text/x-python",
   "name": "python",
   "nbconvert_exporter": "python",
   "pygments_lexer": "ipython3",
   "version": "3.8.8"
  }
 },
 "nbformat": 4,
 "nbformat_minor": 5
}
